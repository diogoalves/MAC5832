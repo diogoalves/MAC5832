{
 "cells": [
  {
   "cell_type": "code",
   "execution_count": null,
   "metadata": {},
   "outputs": [],
   "source": [
    "name = \"Diogo José Costa Alves\"  \n"
   ]
  },
  {
   "cell_type": "markdown",
   "metadata": {},
   "source": [
    "## Problema 3.16 do livro texto\n",
    "\n",
    "No exemplo 3.4, é mencionado que a saída da função de hipótese final de uma regressão logistica $g(x)$ aprendida utilizando regressão logistica limitada para entregar uma classificação 'dura' ($-1$ ou $+1$). Esse problema mostra como utilizar a matriz de ricos para obter esse limiar de classificação.\n",
    "\n",
    "Considere a verificação de impressão de digital. Depois de capturar o padrão do dado utilizando regressão logistica, você produz a seguinte hipótese final.\n",
    "\n",
    "$g(x) = P(y = +1 | x)$,\n",
    "\n",
    "que é sua estimativa de probabilidade para $y = +1$. \n",
    "\n",
    "Visualizando a matriz de riscos definimos que o custo de aceitar um intruso como $c_a$ e o custo de rejeitar uma pessoa ok como $c_r$.\n",
    "\n",
    "Para uma nova pessoa, como impressão digital $x$, você calcula $g(x)$ e agora você decide se aceita ou rejeita esta pessoa. Para isso você precisa definir o limiar $k$, o qual quando $g(x) \\ge k$ a pessoa será aceita.\n",
    "\n",
    "\n",
    "**(a)** Defina o cost(accept) como o custo experado caso você aceita a pessoa. De maneira similar defina cost(reject). Mostre que:\n",
    "\n",
    "$\\text{cost}(\\text{accept}) = (1 - g(x))c_a$,\n",
    "\n",
    "$\\text{cost}(\\text{reject}) = g(x))c_r$.\n",
    "\n",
    "\n",
    "**Resposta:** \n",
    "\n",
    "Utilizando a matrix de riscos podemos definir que o custo esperado de aceitar uma pessoa como\n",
    "\n",
    "$\\text{cost}(\\text{accept}) = 0 * P(y=+1|x) + c_a * P(y=-1|x) = c_a * (1 - g(x))$,\n",
    "\n",
    "$\\text{cost}(\\text{reject}) = c_r * P(y=+1|x) + 0*P(y=-1|x) = c_r * g(x)$.\n",
    "\n",
    "\n",
    "\n",
    "\n",
    "\n"
   ]
  },
  {
   "cell_type": "markdown",
   "metadata": {},
   "source": [
    "**(b)** Use a questão anterior para derivar a condição sobre $g(x)$ para aceitar uma pessoa e então mostre que\n",
    "\n",
    "$k = \\frac{c_a}{c_a + c_r}$\n",
    "\n",
    "\n",
    "**Resposta:** Para balancear esse classificador podemos estabelecer que o limiar que leva a aceitação ou recusa de uma pessoa é definido pela condição que o $\\text{cost}(\\text{accept}) = \\text{cost}(\\text{reject})$.\n",
    "\n",
    "Continuando,\n",
    "\n",
    "$c_a * (1 - g(x)) = c_r * g(x)$ ,\n",
    "\n",
    "Chegamos a\n",
    "\n",
    "$g(x) = \\frac{c_a}{c_a + c_r} $\n",
    "\n",
    "então definimos o limiar dessa mesma forma.\n",
    "\n",
    "$k = \\frac{c_a}{c_a + c_r}$\n",
    "\n",
    "\n",
    "\n",
    "\n",
    "\n"
   ]
  },
  {
   "cell_type": "markdown",
   "metadata": {},
   "source": [
    "**(c)** Use as matrizes de custo para os exemplos do classificador no Supermercador e na CIA para calcular o limiar $k$ para esses dois casos. Fale sobre o que podemos intuir com os valores do limiar encontrados.]\n",
    "\n",
    "**Resposta**:\n",
    "\n",
    "No supermercador $k=\\frac{1}{1+10}=\\frac{1}/{11} = 0.0909...$ . Esse é um valor é muito menor do que a metade (0.5) de domínio[0,1] do valor da probabiliade . Indica que é muito fácil atingir esse limiar, portanto, aumenta a probabilidade desse classificador lembra (recall), aceitar, as pessoas no supermercado. Esse classificador sacrifica a precisão do classificador.\n",
    "\n",
    "\n",
    "Na CIA $k=\\frac{1000}{1000+1}=\\frac{1000}{1001} = 0.999 $ . Esse é um valor é muito mair do que a metade (0.5) de domínio[0,1] do valor da probabiliade. Indica que é muito mais difícil que o classificador aceitar essa pessoa. Esse valor indica que a probabilidade de aceitar uma pessoa OK é maior, precisão. Esse classificador sacrifica a capacidade de lembrar das pessoas (recall) em nome da precisão."
   ]
  }
 ],
 "metadata": {
  "interpreter": {
   "hash": "54ac340926238653de1a5d53269be2991f7457463987c3fa42e8976602741d35"
  },
  "kernelspec": {
   "display_name": "Python 3.8.0 ('qrcode')",
   "language": "python",
   "name": "python3"
  },
  "language_info": {
   "name": "python",
   "version": "3.8.0"
  },
  "orig_nbformat": 4
 },
 "nbformat": 4,
 "nbformat_minor": 2
}
