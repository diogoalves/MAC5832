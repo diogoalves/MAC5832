{
 "cells": [
  {
   "cell_type": "code",
   "execution_count": null,
   "metadata": {},
   "outputs": [],
   "source": [
    "name = \"Diogo José Costa Alves\"  \n"
   ]
  },
  {
   "cell_type": "markdown",
   "metadata": {},
   "source": [
    "## Questão 2.\n",
    "\n",
    "Em regressão logística, vimos que a função $h(x) = \\sigma(w\\hat{x})$ é usada para aproximar $P(y=+1|x)$. Desta forma, podemos por exemplo considerar que uma dada instância $x$ é da classe $+1$ se $h(x) \\gt T$ e é da classe $-1$ se $h(x) \\lt T$, para um certo **limiar** $T \\in [0,1]$. Caso $h(x)=T$ então $x$ encontrasse na fronteira de decisão.\n",
    "\n",
    "Mostre que, qualquer que seja o limiar $T$ escolhido, a fronteira de decisão é um hiperplano.\n",
    "\n",
    "\n",
    "**Resposta:**  A fronteira de decisão é definida em\n",
    "\n",
    " $h(x) = \\sigma(w\\hat{x}) = T$,\n",
    "\n",
    " $\\sigma(w_0 + w_1x_1 + ... + w_Nx_N) = T$,\n",
    "\n",
    " Sabendo que também que o domínio da função $\\sigma \\in [0,1]$,\n",
    "\n",
    " Existe um valor $z$ tal que $\\sigma(z) = T$,\n",
    " \n",
    " Sendo assim, a fronteira de decisão, caracterizada por $w_0 + w_1x_1 + ... + w_Nx_N = z$ é um hiperplano.\n",
    "\n"
   ]
  }
 ],
 "metadata": {
  "interpreter": {
   "hash": "54ac340926238653de1a5d53269be2991f7457463987c3fa42e8976602741d35"
  },
  "kernelspec": {
   "display_name": "Python 3.8.0 ('qrcode')",
   "language": "python",
   "name": "python3"
  },
  "language_info": {
   "name": "python",
   "version": "3.8.0"
  },
  "orig_nbformat": 4
 },
 "nbformat": 4,
 "nbformat_minor": 2
}
