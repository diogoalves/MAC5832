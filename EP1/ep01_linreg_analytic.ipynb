{
 "cells": [
  {
   "cell_type": "code",
   "execution_count": 2,
   "metadata": {},
   "outputs": [
    {
     "name": "stdout",
     "output_type": "stream",
     "text": [
      "\n",
      "Name:  Diogo José Costa Alves\n",
      "\n",
      "Honor pledge:  I affirm that I have not given or received any unauthorized help on this assignment, and that this work is my own.\n",
      "\n"
     ]
    }
   ],
   "source": [
    "name = \"Diogo José Costa Alves\"  # write YOUR NAME\n",
    "\n",
    "honorPledge = \"I affirm that I have not given or received any unauthorized \" \\\n",
    "              \"help on this assignment, and that this work is my own.\\n\"\n",
    "\n",
    "\n",
    "print(\"\\nName: \", name)\n",
    "print(\"\\nHonor pledge: \", honorPledge)"
   ]
  },
  {
   "cell_type": "markdown",
   "metadata": {},
   "source": [
    "# MAC0460 / MAC5832 (2022)\n",
    "<hr>\n",
    "\n",
    "# EP2: Linear regression - analytic solution\n",
    "\n",
    "### Objectives:\n",
    "\n",
    "- to implement and test the analytic solution for the linear regression task (see, for instance, <a href=\"http://work.caltech.edu/slides/slides03.pdf\">Slides of Lecture 03</a> of *Learning from Data*)\n",
    "- to understand the core idea (*optimization of a loss or cost function*) for parameter adjustment in machine learning\n",
    "\n",
    "### What to do:\n",
    "- some cells of this notebook must be filled. Places to be filled are indicated as:\n",
    "\n",
    "<code>\n",
    "    # START OF YOUR CODE:\n",
    "    \n",
    "    # END OF YOUR CODE\n",
    "</code> \n",
    "<hr>"
   ]
  },
  {
   "cell_type": "markdown",
   "metadata": {},
   "source": [
    "# Linear regression\n",
    "\n",
    "Given a dataset $\\{(\\mathbf{x}^{(1)}, y^{(1)}), \\dots ,(\\mathbf{x}^{(N)}, y^{(N)})\\}$ with $\\mathbf{x}^{(i)} \\in \\mathbb{R}^{d}$ and $y^{(i)} \\in \\mathbb{R}$, we would like to approximate the unknown function $f:\\mathbb{R}^{d} \\rightarrow \\mathbb{R}$ (recall that $y^{(i)} =f(\\mathbf{x}^{(i)})$) by means of a linear model $h$:\n",
    "$$\n",
    "h(\\mathbf{x}^{(i)}; \\mathbf{w}, b) = \\mathbf{w}^\\top  \\mathbf{x}^{(i)} + b\n",
    "$$\n",
    "\n",
    "Note that $h(\\mathbf{x}^{(i)}; \\mathbf{w}, b)$ is, in fact, an  [affine transformation](https://en.wikipedia.org/wiki/Affine_transformation) of  $\\mathbf{x}^{(i)}$. As commonly done, we will use the term \"linear\" to refer to an affine transformation.\n",
    "\n",
    "The output of $h$ is a linear transformation of $\\mathbf{x}^{(i)}$. We use the notation $h(\\mathbf{x}^{(i)}; \\mathbf{w}, b)$ to make clear that $h$ is a parametric model, i.e., the transformation $h$ is defined  by the parameters $\\mathbf{w}$ and $b$. We can view vector $\\mathbf{w}$ as a *weight* vector that controls the effect of each *feature* in the prediction.\n",
    "\n",
    "By adding one component with value equal to 1 to the observations $\\mathbf{x}$ (an artificial coordinate), we have:\n",
    "\n",
    "$$\\tilde{\\mathbf{x}} = (1, x_1, \\ldots, x_d) \\in \\mathbb{R}^{1+d}$$\n",
    "\n",
    "and then we can simplify the notation:\n",
    "$$\n",
    "h(\\mathbf{x}^{(i)}; \\mathbf{w}) = \\hat{y}^{(i)} = \\mathbf{w}^\\top  \\tilde{\\mathbf{x}}^{(i)}\n",
    "$$\n",
    "\n",
    "We would like to determine the optimal parameters $\\mathbf{w}$ such that prediction $\\hat{y}^{(i)}$ is as closest as possible to $y^{(i)}$ according to some error metric. Adopting the *mean square error* as such metric we have the following cost function:\n",
    "\n",
    "\\begin{equation}\n",
    "J(\\mathbf{w}) = \\frac{1}{N}\\sum_{i=1}^{N}\\big(\\hat{y}^{(i)} - y^{(i)}\\big)^{2}\n",
    "\\end{equation}\n",
    "\n",
    "Thus, the task of determining a function $h$ that is closest to $f$ is reduced to the task of finding the values $\\mathbf{w}$ that minimize $J(\\mathbf{w})$.\n",
    "\n"
   ]
  },
  {
   "cell_type": "markdown",
   "metadata": {},
   "source": [
    "## Some imports"
   ]
  },
  {
   "cell_type": "code",
   "execution_count": 2,
   "metadata": {},
   "outputs": [],
   "source": [
    "import numpy as np\n",
    "import time\n",
    "import matplotlib.pyplot as plt\n",
    "from sklearn.metrics import r2_score, mean_squared_error\n",
    "\n",
    "\n",
    "%matplotlib inline"
   ]
  },
  {
   "cell_type": "markdown",
   "metadata": {},
   "source": [
    "### Auxiliary functions\n",
    "The two auxiliary functions below are for generating simulated data and for plotting data."
   ]
  },
  {
   "cell_type": "code",
   "execution_count": 128,
   "metadata": {},
   "outputs": [],
   "source": [
    "# An auxiliary function\n",
    "# - Added trials variable only to understand how typical is the need to re-sampling\n",
    "# - Added seed parameter to make data sampling more deterinistic\n",
    "def get_housing_prices_data(N, verbose=True, seed=0):\n",
    "    \"\"\"\n",
    "    Generates artificial linear data,\n",
    "    where x = square meter, y = house price\n",
    "\n",
    "    :param N: data set size\n",
    "    :type N: int\n",
    "    \n",
    "    :param verbose: param to control print\n",
    "    :type verbose: bool\n",
    "    :return: design matrix, regression targets\n",
    "    :rtype: np.array, np.array\n",
    "    \"\"\"\n",
    "    np.random.seed(seed)\n",
    "    cond = False\n",
    "    trials = 0\n",
    "    while not cond:\n",
    "        x = np.linspace(90, 1200, N)\n",
    "        gamma = np.random.normal(30, 10, x.size)\n",
    "        y = 50 * x + gamma * 400\n",
    "        x = x.astype(\"float32\")\n",
    "        x = x.reshape((x.shape[0], 1))\n",
    "        y = y.astype(\"float32\")\n",
    "        y = y.reshape((y.shape[0], 1))\n",
    "        cond = min(y) > 0\n",
    "        trials = trials + 1\n",
    "        \n",
    "    xmean, xsdt, xmax, xmin = np.mean(x), np.std(x), np.max(x), np.min(x)\n",
    "    ymean, ysdt, ymax, ymin = np.mean(y), np.std(y), np.max(y), np.min(y)\n",
    "    if verbose:\n",
    "        print(\"\\nX shape = {}\".format(x.shape))\n",
    "        print(\"y shape = {}\\n\".format(y.shape))\n",
    "        print(\"X: mean {}, sdt {:.2f}, max {:.2f}, min {:.2f}\".format(xmean,\n",
    "                                                               xsdt,\n",
    "                                                               xmax,\n",
    "                                                               xmin))\n",
    "        print(\"y: mean {:.2f}, sdt {:.2f}, max {:.2f}, min {:.2f}\".format(ymean,\n",
    "                                                                 ysdt,\n",
    "                                                                 ymax,\n",
    "                                                                 ymin))\n",
    "\n",
    "        print(\"\\nTried \", str(trials), 'times.')\n",
    "    return x, y"
   ]
  },
  {
   "cell_type": "code",
   "execution_count": 3,
   "metadata": {},
   "outputs": [],
   "source": [
    "# Another auxiliary function\n",
    "# - added mse input\n",
    "def plot_points_regression(x,\n",
    "                           y,\n",
    "                           title,\n",
    "                           xlabel,\n",
    "                           ylabel,\n",
    "                           prediction=None,\n",
    "                           legend=False,\n",
    "                           r_squared=None,\n",
    "                           mse=None,\n",
    "                           position=(90, 100)):\n",
    "    \"\"\"\n",
    "    Plots the data points and the prediction,\n",
    "    if there is one.\n",
    "\n",
    "    :param x: design matrix\n",
    "    :type x: np.array\n",
    "    :param y: regression targets\n",
    "    :type y: np.array\n",
    "    :param title: plot's title\n",
    "    :type title: str\n",
    "    :param xlabel: x axis label\n",
    "    :type xlabel: str\n",
    "    :param ylabel: y axis label\n",
    "    :type ylabel: str\n",
    "    :param prediction: model's prediction\n",
    "    :type prediction: np.array\n",
    "    :param legend: param to control print legends\n",
    "    :type legend: bool\n",
    "    :param r_squared: r^2 value\n",
    "    :type r_squared: float\n",
    "    :param mse: mean squared error value\n",
    "    :type mse: float    \n",
    "    :param position: text position\n",
    "    :type position: tuple\n",
    "    \"\"\"\n",
    "    fig, ax = plt.subplots(1, 1, figsize=(8, 8))\n",
    "    line1, = ax.plot(x, y, 'bo', label='Real data')\n",
    "    if prediction is not None:\n",
    "        line2, = ax.plot(x, prediction, 'r', label='Predicted data')\n",
    "        if legend:\n",
    "            plt.legend(handles=[line1, line2], loc=2)\n",
    "        ax.set_title(title,\n",
    "                 fontsize=20,\n",
    "                 fontweight='bold')\n",
    "    if r_squared is not None:\n",
    "        bbox_props = dict(boxstyle=\"square,pad=0.3\",\n",
    "                          fc=\"white\", ec=\"black\", lw=0.2)\n",
    "        t = ax.text(position[0], position[1], \"$R^2 ={:.4f}$\".format(r_squared),\n",
    "                    size=15, bbox=bbox_props)\n",
    "\n",
    "    if mse is not None:\n",
    "        bbox_props = dict(boxstyle=\"square,pad=0.3\",\n",
    "                          fc=\"white\", ec=\"black\", lw=0.2)\n",
    "        t = ax.text(position[0]+500, position[1], \"$MSE ={:.2f}$\".format(mse),\n",
    "                    size=15, bbox=bbox_props)\n",
    "\n",
    "    ax.set_xlabel(xlabel, fontsize=20)\n",
    "    ax.set_ylabel(ylabel, fontsize=20)\n",
    "    plt.show()\n"
   ]
  },
  {
   "cell_type": "markdown",
   "metadata": {},
   "source": [
    "### The dataset and the task\n",
    "\n",
    "The first dataset we will use is a toy dataset. We will generate $N=100$ observations with only one *feature* and a real value associated to each of them. We can view these observations as being pairs *(area of a real state in square meters, price of the real state)*. Our task is to construct a model that is able to predict the price of a real state, given its area."
   ]
  },
  {
   "cell_type": "code",
   "execution_count": 129,
   "metadata": {},
   "outputs": [
    {
     "name": "stdout",
     "output_type": "stream",
     "text": [
      "\n",
      "X shape = (100, 1)\n",
      "y shape = (100, 1)\n",
      "\n",
      "X: mean 645.0, sdt 323.65, max 1200.00, min 90.00\n",
      "y: mean 44489.23, sdt 16337.17, max 78022.27, min 15393.92\n",
      "\n",
      "Tried  1 times.\n"
     ]
    }
   ],
   "source": [
    "X, y = get_housing_prices_data(N=100)"
   ]
  },
  {
   "cell_type": "markdown",
   "metadata": {},
   "source": [
    "### Ploting the data"
   ]
  },
  {
   "cell_type": "code",
   "execution_count": 11,
   "metadata": {},
   "outputs": [
    {
     "data": {
      "image/png": "[encoded data removed]",
      "text/plain": [
       "<Figure size 576x576 with 1 Axes>"
      ]
     },
     "metadata": {
      "needs_background": "light"
     },
     "output_type": "display_data"
    }
   ],
   "source": [
    "plot_points_regression(X,\n",
    "                       y,\n",
    "                       title='Real estate prices prediction',\n",
    "                       xlabel=\"m\\u00b2\",\n",
    "                       ylabel='$')"
   ]
  },
  {
   "cell_type": "markdown",
   "metadata": {},
   "source": [
    "### The solution\n",
    "\n",
    "Given $f:\\mathbb{R}^{N\\times M} \\rightarrow \\mathbb{R}$ and $\\mathbf{A} \\in \\mathbb{R}^{N\\times M}$, we define the gradient of $f$ with respect to $\\mathbf{A}$ as:\n",
    "\n",
    "$$\n",
    "\\nabla_{\\mathbf{A}}f = \\frac{\\partial f}{\\partial \\mathbf{A}} =  \\begin{bmatrix}\n",
    "\\frac{\\partial f}{\\partial \\mathbf{A}_{1,1}} & \\dots & \\frac{\\partial f}{\\partial \\mathbf{A}_{1,m}} \\\\\n",
    "\\vdots &  \\ddots & \\vdots \\\\\n",
    "\\frac{\\partial f}{\\partial \\mathbf{A}_{n,1}} &  \\dots & \\frac{\\partial f}{\\partial \\mathbf{A}_{n,m}}\n",
    "\\end{bmatrix}\n",
    "$$\n",
    "\n",
    "Let $\\mathbf{X} \\in \\mathbb{R}^{N\\times (1+d)}$ be a matrix (sometimes also called the *design matrix*) whose rows are the extended observations of the dataset and let $\\mathbf{y} \\in \\mathbb{R}^{N}$ be the vector consisting of all values $y^{(i)}$ (i.e., $\\mathbf{X}^{(i,:)} = \\mathbf{\\tilde{x}}^{(i)}$ and $\\mathbf{y}^{(i)} = y^{(i)}$). It can be verified that: \n",
    "\n",
    "\\begin{equation}\n",
    "J(\\mathbf{w}) = \\frac{1}{N}(\\mathbf{X}\\mathbf{w} - \\mathbf{y})^{T}(\\mathbf{X}\\mathbf{w} - \\mathbf{y})\n",
    "\\end{equation}\n",
    "\n",
    "Using basic matrix derivative concepts we can compute the gradient of $J(\\mathbf{w})$ with respect to $\\mathbf{w}$:\n",
    "\n",
    "\\begin{equation}\n",
    "\\nabla_{\\mathbf{w}}J(\\mathbf{w}) = \\frac{2}{N} (\\mathbf{X}^{T}\\mathbf{X}\\mathbf{w} -\\mathbf{X}^{T}\\mathbf{y})   \n",
    "\\end{equation}\n",
    "\n",
    "Thus, when $\\nabla_{\\mathbf{w}}J(\\mathbf{w}) = 0$ we have \n",
    "\n",
    "\\begin{equation}\n",
    "\\mathbf{X}^{T}\\mathbf{X}\\mathbf{w} = \\mathbf{X}^{T}\\mathbf{y}\n",
    "\\end{equation}\n",
    "\n",
    "Hence,\n",
    "\n",
    "\\begin{equation}\n",
    "\\mathbf{w} = (\\mathbf{X}^{T}\\mathbf{X})^{-1}\\mathbf{X}^{T}\\mathbf{y}\n",
    "\\end{equation}\n",
    "\n",
    "Note that this solution has a high computational cost. As the number of variables (*features*) increases, the cost for matrix inversion becomes prohibitive. See  [this text](https://sgfin.github.io/files/notes/CS229_Lecture_Notes.pdf) for more details."
   ]
  },
  {
   "cell_type": "markdown",
   "metadata": {},
   "source": [
    "## NumPy\n",
    "Quoted from [NumPy documentation](https://numpy.org/doc/stable/): \"NumPy is the fundamental package for scientific computing in Python. It is a Python library that provides a multidimensional array object, various derived objects (such as masked arrays and matrices), and an assortment of routines for fast operations on arrays, including mathematical, logical, shape manipulation, sorting, selecting, I/O, discrete Fourier transforms, basic linear algebra, basic statistical operations, random simulation and much more.\"\n",
    "\n",
    "A quick introduction to this library can be found [here](http://cs231n.github.io/python-numpy-tutorial/). Particularly useful for this EP (and this course) are the \"array math\" related tools."
   ]
  },
  {
   "cell_type": "markdown",
   "metadata": {},
   "source": [
    "# <mark>Exercise 1</mark>\n",
    "The objective of this exercise is to apply the solution just described on the dataset above created.\n",
    "\n",
    "Using only **NumPy**, complete the two functions below. Recall that $\\mathbf{X} \\in \\mathbb{R}^{N\\times d}$; thus you will need to add a component of value 1 to each of  the observations in $\\mathbf{X}$ before performing the computation described above.\n",
    "\n",
    "NOTE: Although the dataset above has data of dimension $d=1$, your code must be generic (it should work for $d\\geq1$)"
   ]
  },
  {
   "cell_type": "markdown",
   "metadata": {},
   "source": [
    "## <mark>1.1. Weight computation function</mark>"
   ]
  },
  {
   "cell_type": "code",
   "execution_count": 4,
   "metadata": {},
   "outputs": [],
   "source": [
    "def normal_equation_weights(X, y):\n",
    "    \"\"\"\n",
    "    Calculates the weights of a linear function using the normal equation method.\n",
    "    You should add into X a new column with 1s.\n",
    "\n",
    "    :param X: design matrix\n",
    "    :type X: np.ndarray(shape=(N, d))\n",
    "    :param y: regression targets\n",
    "    :type y: np.ndarray(shape=(N, 1))\n",
    "    :return: weight vector\n",
    "    :rtype: np.ndarray(shape=(1+d, 1))\n",
    "    \"\"\"\n",
    "    \n",
    "    # START OF YOUR CODE:\n",
    "    X = np.column_stack( [np.ones((X.shape[0],1)), X ]) # adds the bias term in X\n",
    "    weights = np.dot( np.dot( np.linalg.pinv( np.dot(X.T, X) ), X.T), y) # normal method\n",
    "    return weights\n",
    "    # END OF YOUR CODE\n",
    "    "
   ]
  },
  {
   "cell_type": "code",
   "execution_count": 14,
   "metadata": {},
   "outputs": [
    {
     "name": "stdout",
     "output_type": "stream",
     "text": [
      "Estimated w =\n",
      " [[12930.31620366]\n",
      " [   48.92855189]]\n",
      "Shape: (2, 1)\n"
     ]
    }
   ],
   "source": [
    "# test of function normal_equation_weights()\n",
    "# - added weights shape printing. this help me make sensen of dot products\n",
    "\n",
    "w = normal_equation_weights(X, y)\n",
    "print(\"Estimated w =\\n\", w)\n",
    "print(\"Shape:\", w.shape)"
   ]
  },
  {
   "cell_type": "markdown",
   "metadata": {},
   "source": [
    "## <mark>1.2. Prediction function</mark>"
   ]
  },
  {
   "cell_type": "code",
   "execution_count": 5,
   "metadata": {},
   "outputs": [],
   "source": [
    "def normal_equation_prediction(X, w):\n",
    "    \"\"\"\n",
    "    Calculates the prediction over a set of observations X using the linear function\n",
    "    characterized by the weight vector w.\n",
    "    You should add into X a new column with 1s.\n",
    "\n",
    "    :param X: design matrix\n",
    "    :type X: np.ndarray(shape=(N, d))\n",
    "    :param w: weight vector\n",
    "    :type w: np.ndarray(shape=(1+d, 1))\n",
    "    :param y: regression prediction\n",
    "    :type y: np.ndarray(shape=(N, 1))\n",
    "    \"\"\"\n",
    "    \n",
    "    # START OF YOUR CODE:\n",
    "    X = np.column_stack( [np.ones((X.shape[0],1)), X ]) # adds the bias term in X\n",
    "    predicted = np.dot(X, w)\n",
    "    return predicted\n",
    "    # END OF YOUR CODE\n"
   ]
  },
  {
   "cell_type": "markdown",
   "metadata": {},
   "source": [
    "## <mark>1.3. Coefficient of determination</mark>\n",
    "We can use the [$R^2$](https://pt.wikipedia.org/wiki/R%C2%B2) metric (Coefficient of determination) to evaluate how well the linear model fits the data.\n",
    "\n",
    "**Which $𝑅^2$ value would you expect to observe ?**\n",
    "\n",
    "Answer: I expect a value in interval (0,5, 1)"
   ]
  },
  {
   "cell_type": "code",
   "execution_count": 40,
   "metadata": {},
   "outputs": [
    {
     "name": "stdout",
     "output_type": "stream",
     "text": [
      "16132973.378021726\n"
     ]
    },
    {
     "data": {
      "image/png": "[encoded data removed]",
      "text/plain": [
       "<Figure size 576x576 with 1 Axes>"
      ]
     },
     "metadata": {
      "needs_background": "light"
     },
     "output_type": "display_data"
    }
   ],
   "source": [
    "# test of function normal_equation_prediction()\n",
    "prediction = normal_equation_prediction(X, w)\n",
    "\n",
    "# compute the R2 score using the r2_score function from sklearn\n",
    "# Replace 0 with an appropriate call of the function\n",
    "\n",
    "# START OF YOUR CODE:\n",
    "r_2 = r2_score(y_true=y, y_pred=prediction)\n",
    "mse = mean_squared_error(y_true=y.T, y_pred=prediction.T)\n",
    "\n",
    "print(str(mse))\n",
    "# END OF YOUR CODE\n",
    "\n",
    "plot_points_regression(X,\n",
    "                       y,\n",
    "                       title='Real estate prices prediction',\n",
    "                       xlabel=\"m\\u00b2\",\n",
    "                       ylabel='$',\n",
    "                       prediction=prediction,\n",
    "                       legend=True,\n",
    "                       r_squared=r_2,\n",
    "                       mse=mse)"
   ]
  },
  {
   "cell_type": "markdown",
   "metadata": {},
   "source": [
    "### Trying to implement $R^2$ \n",
    "I have tried to implement it only to be sure that I am reading correctly the formula and to also practice a little of numpy.\n",
    "\n",
    "$R^2 = 1 - \\frac{\\sum(Y_{\\text{true}} - Y{\\text{predicted}})^2}{\\sum(Y_{\\text{true}} - Y_{\\text{mean}})^2}$\n",
    "\n",
    "The denominator part seems to be standardizing the squared error in some way.\n",
    "\n",
    "The meaning is, given a $R^2=0.9396$ then approximately $93\\%$ of observed variation can be explained by the model.\n"
   ]
  },
  {
   "cell_type": "code",
   "execution_count": 37,
   "metadata": {},
   "outputs": [
    {
     "name": "stdout",
     "output_type": "stream",
     "text": [
      "r2(sklearn) = 0.9395549184599372 , my_r2 = 0.9395549144297203 , difference = 4.0302169379557995e-09    pretty close.\n"
     ]
    }
   ],
   "source": [
    "def my_r2_score(y_true, y_pred):\n",
    "    y_mean = np.mean(y_true)\n",
    "    numerator = np.sum( np.square(y_true - y_pred) )\n",
    "    denominator = np.sum( np.square(y_true - y_mean) ) # y_mean is broadcasted here\n",
    "    return 1 - numerator / denominator\n",
    "\n",
    "my_r2 = my_r2_score(y_true=y, y_pred=prediction)\n",
    "\n",
    "print('r2(sklearn) =', str(r_2), ', my_r2 =', str(my_r2), ', difference =', str(r_2-my_r2), '   pretty close.')"
   ]
  },
  {
   "cell_type": "markdown",
   "metadata": {},
   "source": [
    "### Mean squared error implementation\n",
    "\n",
    "sklearn.mean_squared_error is returning a big number that I cant understande. \n",
    "I will try to implement this function to try understand better whats is occuring.\n",
    "\n",
    "$MSE = \\text{arithmetic mean}(Y_\\text{true} - Y_\\text{predicted})^2$\n",
    "\n",
    "comments: I understood that MSE is not a percentage but score that has no upper limit. This make it not suitable be used when comparing different datasets.\n"
   ]
  },
  {
   "cell_type": "code",
   "execution_count": 42,
   "metadata": {},
   "outputs": [
    {
     "name": "stdout",
     "output_type": "stream",
     "text": [
      "mse(sklearn) = 16132973.378021726 , my_mse = 16132973.378021726 , difference = 0.0\n"
     ]
    }
   ],
   "source": [
    "def my_mean_squared_error(y_true, y_pred):\n",
    "    return np.mean( np.square(y_true - y_pred) )\n",
    "\n",
    "my_mse = my_mean_squared_error(y_true=y, y_pred=prediction)\n",
    "\n",
    "print('mse(sklearn) =', str(mse), ', my_mse =', str(my_mse), ', difference =', str(mse-my_mse))\n"
   ]
  },
  {
   "cell_type": "markdown",
   "metadata": {},
   "source": [
    "## Additional tests\n",
    "\n",
    "Let us compute a prediction for $x=650$\n"
   ]
  },
  {
   "cell_type": "code",
   "execution_count": 67,
   "metadata": {},
   "outputs": [
    {
     "name": "stdout",
     "output_type": "stream",
     "text": [
      "Area = 650.00  Predicted price = 44400.9109\n"
     ]
    }
   ],
   "source": [
    "# Let us use the prediction function\n",
    "x = np.asarray([650]).reshape(1,1)\n",
    "prediction = normal_equation_prediction(x, w)\n",
    "print(\"Area = %.2f  Predicted price = %.4f\" %(x[0], prediction))"
   ]
  },
  {
   "cell_type": "markdown",
   "metadata": {},
   "source": [
    "## <mark>1.4. Processing time</mark>\n",
    "\n",
    "Experiment with different number of samples $N$ and observe how processing time varies.\n",
    "\n",
    "Be careful not to use a too large value; it may make jupyter freeze ...\n",
    "\n",
    "comments:\n",
    "- changed get_housing_prices_data to verbose=False"
   ]
  },
  {
   "cell_type": "code",
   "execution_count": 59,
   "metadata": {},
   "outputs": [
    {
     "data": {
      "image/png": "[encoded data removed]",
      "text/plain": [
       "<Figure size 576x576 with 1 Axes>"
      ]
     },
     "metadata": {
      "needs_background": "light"
     },
     "output_type": "display_data"
    }
   ],
   "source": [
    "# Add other values for N\n",
    "# START OF YOUR CODE:\n",
    "N = np.linspace(1000,500000,200).astype(int)\n",
    "# END OF YOUR CODE\n",
    "\n",
    "X_n = []\n",
    "y_n = []\n",
    "\n",
    "for i in N:\n",
    "    X_n.append(i)\n",
    "    X, y = get_housing_prices_data(N=i, verbose=False)\n",
    "    init = time.time()\n",
    "\n",
    "    w = normal_equation_weights(X, y)\n",
    "    prediction = normal_equation_prediction(X,w)\n",
    "\n",
    "    init = time.time() - init\n",
    "    y_n.append(init)\n",
    "    # print(\"Execution time = {:.8f}(s)\\n\".format(init))\n",
    "\n",
    "\n",
    "plot_points_regression(X_n,\n",
    "                       y_n,\n",
    "                       title='Execution time x n',\n",
    "                       xlabel=\"n\",\n",
    "                       ylabel='time')"
   ]
  },
  {
   "cell_type": "markdown",
   "metadata": {},
   "source": [
    "### ↑↑↑ Looking at the graph, what do these steps represent?\n",
    "\n",
    "In the interval from N=1000 to N=500000 we could see more de 20 steps.\n",
    "There are some superposition between then.\n",
    "We can see a linear scaling\n",
    "\n",
    "hypothesis: the size of N determines should fit in some matrix multiplication instruction constraints. Some SIMD constraint. Some memory hierarchy constraint."
   ]
  },
  {
   "cell_type": "code",
   "execution_count": 70,
   "metadata": {},
   "outputs": [
    {
     "name": "stdout",
     "output_type": "stream",
     "text": [
      "500000\n",
      "1000000\n",
      "1500000\n",
      "2000000\n",
      "2500000\n",
      "3000000\n",
      "3500000\n",
      "4000000\n",
      "4500000\n",
      "5000000\n"
     ]
    },
    {
     "data": {
      "image/png": "[encoded data removed]",
      "text/plain": [
       "<Figure size 576x576 with 1 Axes>"
      ]
     },
     "metadata": {
      "needs_background": "light"
     },
     "output_type": "display_data"
    }
   ],
   "source": [
    "# Add other values for N\n",
    "# START OF YOUR CODE:\n",
    "N = np.linspace(500000, 5000000, 10).astype(int)\n",
    "# END OF YOUR CODE\n",
    "\n",
    "X_n = []\n",
    "y_n = []\n",
    "\n",
    "for i in N:\n",
    "    print(str(i))\n",
    "    X_n.append(i)\n",
    "    X, y = get_housing_prices_data(N=i, verbose=False)\n",
    "    init = time.time()\n",
    "\n",
    "    w = normal_equation_weights(X, y)\n",
    "    prediction = normal_equation_prediction(X,w)\n",
    "\n",
    "    init = time.time() - init\n",
    "    y_n.append(init)\n",
    "    # print(\"Execution time = {:.8f}(s)\\n\".format(init))\n",
    "\n",
    "\n",
    "plot_points_regression(X_n,\n",
    "                       y_n,\n",
    "                       title='Execution time x n',\n",
    "                       xlabel=\"n\",\n",
    "                       ylabel='time')"
   ]
  },
  {
   "cell_type": "markdown",
   "metadata": {},
   "source": [
    "↑↑↑ The growth still seem to be linear in the interval from N=500000 to N=5000000."
   ]
  },
  {
   "cell_type": "code",
   "execution_count": 71,
   "metadata": {},
   "outputs": [
    {
     "name": "stdout",
     "output_type": "stream",
     "text": [
      "5000000\n",
      "5111111\n",
      "5222222\n",
      "5333333\n",
      "5444444\n",
      "5555555\n",
      "5666666\n",
      "5777777\n",
      "5888888\n",
      "6000000\n"
     ]
    },
    {
     "data": {
      "image/png": "[encoded data removed]",
      "text/plain": [
       "<Figure size 576x576 with 1 Axes>"
      ]
     },
     "metadata": {
      "needs_background": "light"
     },
     "output_type": "display_data"
    }
   ],
   "source": [
    "# Add other values for N\n",
    "# START OF YOUR CODE:\n",
    "N = np.linspace(5000000, 6000000, 10).astype(int)\n",
    "# END OF YOUR CODE\n",
    "\n",
    "X_n = []\n",
    "y_n = []\n",
    "\n",
    "for i in N:\n",
    "    print(str(i))\n",
    "    X_n.append(i)\n",
    "    X, y = get_housing_prices_data(N=i, verbose=False)\n",
    "    init = time.time()\n",
    "\n",
    "    w = normal_equation_weights(X, y)\n",
    "    prediction = normal_equation_prediction(X,w)\n",
    "\n",
    "    init = time.time() - init\n",
    "    y_n.append(init)\n",
    "    # print(\"Execution time = {:.8f}(s)\\n\".format(init))\n",
    "\n",
    "\n",
    "plot_points_regression(X_n,\n",
    "                       y_n,\n",
    "                       title='Execution time x n',\n",
    "                       xlabel=\"n\",\n",
    "                       ylabel='time')"
   ]
  },
  {
   "cell_type": "markdown",
   "metadata": {},
   "source": [
    "↑↑↑ The growth seems to be more like an exponential function when N > 5222222. I would need more points to be sure, but I have just lost my interest in waiting for the computer to end the bit crunching :-)"
   ]
  },
  {
   "cell_type": "markdown",
   "metadata": {},
   "source": [
    "# <mark>Exercise 2</mark>\n",
    "\n",
    "In this exercise, the goal is to play with the data we have collected in our first class. Download the data file from [here](https://edisciplinas.usp.br/draftfile.php/5062945/user/draft/622707057/dataMAC0460_5832.csv) (or directly from e-disciplinas, seção Tarefas). \n",
    "We will also try to explore cases where $d>1$.\n",
    "\n",
    "Note that there might be some invalid data entries. It is up to you how you will handle those data. Note that if you decide to do some pre-processing of the dataset, it should be done in this notebook (you are not allowed to edit the CSV datasheet). Feel free to added new cells if that helps to better organize your code.\n"
   ]
  },
  {
   "cell_type": "markdown",
   "metadata": {},
   "source": [
    "## Reading the dataset"
   ]
  },
  {
   "cell_type": "code",
   "execution_count": 6,
   "metadata": {},
   "outputs": [
    {
     "data": {
      "text/html": [
       "<div>\n",
       "<style scoped>\n",
       "    .dataframe tbody tr th:only-of-type {\n",
       "        vertical-align: middle;\n",
       "    }\n",
       "\n",
       "    .dataframe tbody tr th {\n",
       "        vertical-align: top;\n",
       "    }\n",
       "\n",
       "    .dataframe thead th {\n",
       "        text-align: right;\n",
       "    }\n",
       "</style>\n",
       "<table border=\"1\" class=\"dataframe\">\n",
       "  <thead>\n",
       "    <tr style=\"text-align: right;\">\n",
       "      <th></th>\n",
       "      <th>Sex</th>\n",
       "      <th>Age</th>\n",
       "      <th>Height</th>\n",
       "      <th>Weight</th>\n",
       "      <th>Shoe number</th>\n",
       "      <th>Trouser number</th>\n",
       "    </tr>\n",
       "  </thead>\n",
       "  <tbody>\n",
       "    <tr>\n",
       "      <th>0</th>\n",
       "      <td>Female</td>\n",
       "      <td>53</td>\n",
       "      <td>154</td>\n",
       "      <td>59</td>\n",
       "      <td>36</td>\n",
       "      <td>40</td>\n",
       "    </tr>\n",
       "    <tr>\n",
       "      <th>1</th>\n",
       "      <td>Male</td>\n",
       "      <td>23</td>\n",
       "      <td>170</td>\n",
       "      <td>56</td>\n",
       "      <td>40</td>\n",
       "      <td>38</td>\n",
       "    </tr>\n",
       "    <tr>\n",
       "      <th>2</th>\n",
       "      <td>Female</td>\n",
       "      <td>23</td>\n",
       "      <td>167</td>\n",
       "      <td>63</td>\n",
       "      <td>37</td>\n",
       "      <td>40</td>\n",
       "    </tr>\n",
       "    <tr>\n",
       "      <th>3</th>\n",
       "      <td>Male</td>\n",
       "      <td>21</td>\n",
       "      <td>178</td>\n",
       "      <td>78</td>\n",
       "      <td>40</td>\n",
       "      <td>40</td>\n",
       "    </tr>\n",
       "    <tr>\n",
       "      <th>4</th>\n",
       "      <td>Female</td>\n",
       "      <td>25</td>\n",
       "      <td>153</td>\n",
       "      <td>58</td>\n",
       "      <td>36</td>\n",
       "      <td>38</td>\n",
       "    </tr>\n",
       "  </tbody>\n",
       "</table>\n",
       "</div>"
      ],
      "text/plain": [
       "      Sex  Age  Height  Weight  Shoe number Trouser number\n",
       "0  Female   53     154      59           36             40\n",
       "1    Male   23     170      56           40             38\n",
       "2  Female   23     167      63           37             40\n",
       "3    Male   21     178      78           40             40\n",
       "4  Female   25     153      58           36             38"
      ]
     },
     "execution_count": 6,
     "metadata": {},
     "output_type": "execute_result"
    }
   ],
   "source": [
    "import pandas as pd\n",
    "\n",
    "# load the dataset\n",
    "df = pd.read_csv('dataMAC0460_5832.csv')\n",
    "df.head()"
   ]
  },
  {
   "cell_type": "code",
   "execution_count": 73,
   "metadata": {},
   "outputs": [
    {
     "data": {
      "text/html": [
       "<div>\n",
       "<style scoped>\n",
       "    .dataframe tbody tr th:only-of-type {\n",
       "        vertical-align: middle;\n",
       "    }\n",
       "\n",
       "    .dataframe tbody tr th {\n",
       "        vertical-align: top;\n",
       "    }\n",
       "\n",
       "    .dataframe thead th {\n",
       "        text-align: right;\n",
       "    }\n",
       "</style>\n",
       "<table border=\"1\" class=\"dataframe\">\n",
       "  <thead>\n",
       "    <tr style=\"text-align: right;\">\n",
       "      <th></th>\n",
       "      <th>Age</th>\n",
       "      <th>Height</th>\n",
       "      <th>Weight</th>\n",
       "      <th>Shoe number</th>\n",
       "    </tr>\n",
       "  </thead>\n",
       "  <tbody>\n",
       "    <tr>\n",
       "      <th>count</th>\n",
       "      <td>202.000000</td>\n",
       "      <td>202.000000</td>\n",
       "      <td>202.000000</td>\n",
       "      <td>202.000000</td>\n",
       "    </tr>\n",
       "    <tr>\n",
       "      <th>mean</th>\n",
       "      <td>28.133663</td>\n",
       "      <td>171.084158</td>\n",
       "      <td>72.004950</td>\n",
       "      <td>39.777228</td>\n",
       "    </tr>\n",
       "    <tr>\n",
       "      <th>std</th>\n",
       "      <td>11.934604</td>\n",
       "      <td>12.808496</td>\n",
       "      <td>17.093392</td>\n",
       "      <td>2.857281</td>\n",
       "    </tr>\n",
       "    <tr>\n",
       "      <th>min</th>\n",
       "      <td>3.000000</td>\n",
       "      <td>65.000000</td>\n",
       "      <td>15.000000</td>\n",
       "      <td>24.000000</td>\n",
       "    </tr>\n",
       "    <tr>\n",
       "      <th>25%</th>\n",
       "      <td>21.000000</td>\n",
       "      <td>166.250000</td>\n",
       "      <td>61.000000</td>\n",
       "      <td>38.000000</td>\n",
       "    </tr>\n",
       "    <tr>\n",
       "      <th>50%</th>\n",
       "      <td>23.000000</td>\n",
       "      <td>172.500000</td>\n",
       "      <td>70.000000</td>\n",
       "      <td>40.000000</td>\n",
       "    </tr>\n",
       "    <tr>\n",
       "      <th>75%</th>\n",
       "      <td>29.750000</td>\n",
       "      <td>178.000000</td>\n",
       "      <td>81.750000</td>\n",
       "      <td>42.000000</td>\n",
       "    </tr>\n",
       "    <tr>\n",
       "      <th>max</th>\n",
       "      <td>67.000000</td>\n",
       "      <td>194.000000</td>\n",
       "      <td>159.000000</td>\n",
       "      <td>46.000000</td>\n",
       "    </tr>\n",
       "  </tbody>\n",
       "</table>\n",
       "</div>"
      ],
      "text/plain": [
       "              Age      Height      Weight  Shoe number\n",
       "count  202.000000  202.000000  202.000000   202.000000\n",
       "mean    28.133663  171.084158   72.004950    39.777228\n",
       "std     11.934604   12.808496   17.093392     2.857281\n",
       "min      3.000000   65.000000   15.000000    24.000000\n",
       "25%     21.000000  166.250000   61.000000    38.000000\n",
       "50%     23.000000  172.500000   70.000000    40.000000\n",
       "75%     29.750000  178.000000   81.750000    42.000000\n",
       "max     67.000000  194.000000  159.000000    46.000000"
      ]
     },
     "execution_count": 73,
     "metadata": {},
     "output_type": "execute_result"
    }
   ],
   "source": [
    "df.describe()"
   ]
  },
  {
   "cell_type": "markdown",
   "metadata": {},
   "source": [
    "### Let's establish 'Weight' as the target variable"
   ]
  },
  {
   "cell_type": "code",
   "execution_count": 76,
   "metadata": {},
   "outputs": [
    {
     "data": {
      "text/plain": [
       "0      59\n",
       "1      56\n",
       "2      63\n",
       "3      78\n",
       "4      58\n",
       "       ..\n",
       "197    57\n",
       "198    68\n",
       "199    65\n",
       "200    51\n",
       "201    62\n",
       "Name: Weight, Length: 202, dtype: int64"
      ]
     },
     "execution_count": 76,
     "metadata": {},
     "output_type": "execute_result"
    }
   ],
   "source": [
    "# Our target variable is the Weight\n",
    "y = df['Weight']\n",
    "y"
   ]
  },
  {
   "cell_type": "markdown",
   "metadata": {},
   "source": [
    "## <mark>2.1. One feature ($d=1$)</mark>\n",
    "\n",
    "We will use 'Height' as the input feature and predict the weight"
   ]
  },
  {
   "cell_type": "code",
   "execution_count": 74,
   "metadata": {},
   "outputs": [
    {
     "data": {
      "text/plain": [
       "(202, 1)"
      ]
     },
     "execution_count": 74,
     "metadata": {},
     "output_type": "execute_result"
    }
   ],
   "source": [
    "feature_cols = ['Height']\n",
    "X = df.loc[:, feature_cols]\n",
    "X.shape"
   ]
  },
  {
   "cell_type": "markdown",
   "metadata": {},
   "source": [
    "Will try to visualize the relationship between X and Y"
   ]
  },
  {
   "cell_type": "code",
   "execution_count": 78,
   "metadata": {},
   "outputs": [
    {
     "data": {
      "image/png": "[encoded data removed]",
      "text/plain": [
       "<Figure size 576x576 with 1 Axes>"
      ]
     },
     "metadata": {
      "needs_background": "light"
     },
     "output_type": "display_data"
    }
   ],
   "source": [
    "plot_points_regression(X,\n",
    "                       y,\n",
    "                       title='Execution time x n',\n",
    "                       xlabel=\"Height\",\n",
    "                       ylabel='Weight')"
   ]
  },
  {
   "cell_type": "markdown",
   "metadata": {},
   "source": [
    "The first points seems to be an error in dataset. I will try to remove samples where $Height < 140$.\n",
    "\n",
    "This removed 3 outliers/errors."
   ]
  },
  {
   "cell_type": "code",
   "execution_count": 8,
   "metadata": {},
   "outputs": [
    {
     "data": {
      "image/png": "[encoded data removed]",
      "text/plain": [
       "<Figure size 576x576 with 1 Axes>"
      ]
     },
     "metadata": {
      "needs_background": "light"
     },
     "output_type": "display_data"
    }
   ],
   "source": [
    "df = df[df.Height > 140]\n",
    "feature_cols = ['Height']\n",
    "X = df.loc[:, feature_cols]\n",
    "y = df['Weight']\n",
    "\n",
    "plot_points_regression(X,\n",
    "                       y,\n",
    "                       title='X and Y relationship',\n",
    "                       xlabel=\"Height\",\n",
    "                       ylabel='Weight')"
   ]
  },
  {
   "cell_type": "markdown",
   "metadata": {},
   "source": [
    "Write the code for computing the following\n",
    "- compute the regression weights using $\\mathbf{X}$ and $\\mathbf{y}$\n",
    "- compute the prediction\n",
    "- compute the $R^2$ value\n",
    "- plot the regression graph (use appropriate values for the parameters of function <tt>plot_points_regression()</tt>)"
   ]
  },
  {
   "cell_type": "code",
   "execution_count": 9,
   "metadata": {},
   "outputs": [
    {
     "name": "stdout",
     "output_type": "stream",
     "text": [
      "Estimated w =\n",
      " [-101.1603005     1.00606723]\n",
      "Shape: (2,)\n"
     ]
    },
    {
     "data": {
      "image/png": "[encoded data removed]",
      "text/plain": [
       "<Figure size 576x576 with 1 Axes>"
      ]
     },
     "metadata": {
      "needs_background": "light"
     },
     "output_type": "display_data"
    }
   ],
   "source": [
    "# START OF YOUR CODE:\n",
    "w = normal_equation_weights(X, y)\n",
    "print(\"Estimated w =\\n\", w)\n",
    "print(\"Shape:\", w.shape)\n",
    "\n",
    "prediction = normal_equation_prediction(X, w)\n",
    "\n",
    "r_2 = r2_score(y_true=y, y_pred=prediction)\n",
    "mse = mean_squared_error(y_true=y.T, y_pred=prediction.T)\n",
    "\n",
    "plot_points_regression(X,\n",
    "                       y,\n",
    "                       title='Predicting the weight using Height',\n",
    "                       xlabel=\"kilograms\",\n",
    "                       ylabel='centimeters',\n",
    "                       prediction=prediction,\n",
    "                       legend=True,\n",
    "                       r_squared=r_2,\n",
    "                       position=(150, 20))\n",
    "# END OF YOUR CODE\n"
   ]
  },
  {
   "cell_type": "markdown",
   "metadata": {},
   "source": [
    "$R^2$ score of $0.3207$ means that approximately $32\\%$ of observed variation can be explained by the model. Not so good.😞\n"
   ]
  },
  {
   "cell_type": "markdown",
   "metadata": {},
   "source": [
    "## <mark>2.2 - Two input features ($d=2$)</mark>\n",
    "\n",
    "Now repeat the exercise using as input the features 'Height' and 'Shoe number'\n"
   ]
  },
  {
   "cell_type": "markdown",
   "metadata": {},
   "source": [
    "Before I will try visualize Shoe number values in a plot to look for errors in dataset"
   ]
  },
  {
   "cell_type": "code",
   "execution_count": 102,
   "metadata": {},
   "outputs": [
    {
     "data": {
      "image/png": "[encoded data removed]",
      "text/plain": [
       "<Figure size 576x576 with 1 Axes>"
      ]
     },
     "metadata": {
      "needs_background": "light"
     },
     "output_type": "display_data"
    }
   ],
   "source": [
    "plot_points_regression(df['Shoe number'],\n",
    "                       y,\n",
    "                       title='Execution time x n',\n",
    "                       xlabel=\"Shoe number\",\n",
    "                       ylabel='Weight')"
   ]
  },
  {
   "cell_type": "markdown",
   "metadata": {},
   "source": [
    "↑↑↑ I cannot seet any evident error or outsider in $\\text{Shoe number}$ feature.\n",
    "\n",
    "Now I will:\n",
    "- compute the regression weights using $\\mathbf{X}$ and $\\mathbf{y}$\n",
    "- compute the prediction\n",
    "- compute and print the $R^2$ value\n",
    "\n",
    "Note that our plotting function can not be used for this dataset. Here tehre is no need to do the plotting."
   ]
  },
  {
   "cell_type": "code",
   "execution_count": 20,
   "metadata": {},
   "outputs": [
    {
     "name": "stdout",
     "output_type": "stream",
     "text": [
      "Estimated w =\n",
      " [-93.12466267   0.43372922   2.26802346]\n",
      "Shape: (3,)\n",
      "R2 = 0.36557334808620356\n"
     ]
    }
   ],
   "source": [
    "# START OF YOUR CODE:\n",
    "feature_cols = ['Height', 'Shoe number']\n",
    "X = df.loc[:, feature_cols]\n",
    "y = df['Weight']\n",
    "\n",
    "w = normal_equation_weights(X, y)\n",
    "print(\"Estimated w =\\n\", w)\n",
    "print(\"Shape:\", w.shape)\n",
    "\n",
    "prediction = normal_equation_prediction(X, w)\n",
    "\n",
    "r_2 = r2_score(y_true=y, y_pred=prediction)\n",
    "\n",
    "print('R2 =', str(r_2))\n",
    "\n",
    "# END OF YOUR CODE\n"
   ]
  },
  {
   "cell_type": "markdown",
   "metadata": {},
   "source": [
    "Using *Height* and *Shoe number* improved a little the baseline. From $R^2 = 32\\%$ to $R^2 = 36\\%$. Not very promissing.😞\n"
   ]
  },
  {
   "cell_type": "markdown",
   "metadata": {},
   "source": [
    "## 2.3 - <mark>Three input features ($d=3$)</mark>\n",
    "\n",
    "Now try with three features. There is no need to do plotting here.\n",
    "- compute the regression weights using $\\mathbf{X}$ and $\\mathbf{y}$\n",
    "- compute the prediction\n",
    "- compute and print the $R^2$ value"
   ]
  },
  {
   "cell_type": "markdown",
   "metadata": {},
   "source": [
    "Which feature should I use? The options are **sex**, **age** and **trouser number**.\n",
    "\n",
    "**Age** plot shows a lot of points of students with more than 50 years. I cannot remember seeing anyone with more than 50 years in classroom. This data seems to be a little unreliable.\n",
    "\n",
    "**Trouser number** plot shows something as linear relation between it and the student weight. Seems to be a good candidate for the task.\n",
    "\n",
    "**Sex** need an converstion from categorical column to an 0-1 column. Created **is_male** feature and the plot shows a certain relationship with Weight variable."
   ]
  },
  {
   "cell_type": "code",
   "execution_count": 108,
   "metadata": {},
   "outputs": [
    {
     "data": {
      "image/png": "[encoded data removed]",
      "text/plain": [
       "<Figure size 576x576 with 1 Axes>"
      ]
     },
     "metadata": {
      "needs_background": "light"
     },
     "output_type": "display_data"
    }
   ],
   "source": [
    "plot_points_regression(df['Age'],\n",
    "                       y,\n",
    "                       title='Relationship between X and Y',\n",
    "                       xlabel=\"Age\",\n",
    "                       ylabel='Weight')\n",
    "\n"
   ]
  },
  {
   "cell_type": "code",
   "execution_count": 111,
   "metadata": {},
   "outputs": [
    {
     "data": {
      "image/png": "[encoded data removed]",
      "text/plain": [
       "<Figure size 576x576 with 1 Axes>"
      ]
     },
     "metadata": {
      "needs_background": "light"
     },
     "output_type": "display_data"
    }
   ],
   "source": [
    "plot_points_regression(df['Trouser number'],\n",
    "                       y,\n",
    "                       title='Relationship between X and Y',\n",
    "                       xlabel=\"Trouser number\",\n",
    "                       ylabel='Weight')"
   ]
  },
  {
   "cell_type": "code",
   "execution_count": 112,
   "metadata": {},
   "outputs": [
    {
     "data": {
      "text/plain": [
       "Sex               object\n",
       "Age                int64\n",
       "Height             int64\n",
       "Weight             int64\n",
       "Shoe number        int64\n",
       "Trouser number    object\n",
       "dtype: object"
      ]
     },
     "execution_count": 112,
     "metadata": {},
     "output_type": "execute_result"
    }
   ],
   "source": [
    "df.dtypes"
   ]
  },
  {
   "cell_type": "markdown",
   "metadata": {},
   "source": [
    "**Trouser number** column was loaded as an object because it has mixed numbers and strings values.\n",
    "\n",
    "I will convert the S, M and G values according the table in this link [link](https://br.privalia.com/microsites/sizeguide)"
   ]
  },
  {
   "cell_type": "code",
   "execution_count": 117,
   "metadata": {},
   "outputs": [
    {
     "name": "stderr",
     "output_type": "stream",
     "text": [
      "C:\\Users\\Diogo\\AppData\\Local\\Temp\\ipykernel_16392\\1876969449.py:11: SettingWithCopyWarning: \n",
      "A value is trying to be set on a copy of a slice from a DataFrame.\n",
      "Try using .loc[row_indexer,col_indexer] = value instead\n",
      "\n",
      "See the caveats in the documentation: https://pandas.pydata.org/pandas-docs/stable/user_guide/indexing.html#returning-a-view-versus-a-copy\n",
      "  df['Trouser number'] = df['Trouser number'].map(clean_trouser_number)\n"
     ]
    },
    {
     "data": {
      "image/png": "[encoded data removed]",
      "text/plain": [
       "<Figure size 576x576 with 1 Axes>"
      ]
     },
     "metadata": {
      "needs_background": "light"
     },
     "output_type": "display_data"
    }
   ],
   "source": [
    "def clean_trouser_number(cell):\n",
    "    if cell == 'S':\n",
    "        return 38\n",
    "    elif cell == 'M':\n",
    "        return 40\n",
    "    elif cell == 'G':\n",
    "        return 42\n",
    "    else:\n",
    "        return int(cell)\n",
    "\n",
    "df['Trouser number'] = df['Trouser number'].map(clean_trouser_number)\n",
    "\n",
    "plot_points_regression(df['Trouser number'],\n",
    "                       y,\n",
    "                       title='Relationship between X and Y',\n",
    "                       xlabel=\"Trouser number\",\n",
    "                       ylabel='Weight')"
   ]
  },
  {
   "cell_type": "markdown",
   "metadata": {},
   "source": [
    "Now I will convert categorical **Sex** column to **is_male** and **is_female** columns."
   ]
  },
  {
   "cell_type": "code",
   "execution_count": 123,
   "metadata": {},
   "outputs": [
    {
     "data": {
      "text/plain": [
       "array(['Female', 'Male'], dtype=object)"
      ]
     },
     "execution_count": 123,
     "metadata": {},
     "output_type": "execute_result"
    }
   ],
   "source": [
    "df['Sex'].unique()"
   ]
  },
  {
   "cell_type": "code",
   "execution_count": 130,
   "metadata": {},
   "outputs": [],
   "source": [
    "def generate_is_male_female_columns(row):\n",
    "    if row['Sex'] == 'Female':\n",
    "        row['is_male'] = 0\n",
    "        row['is_female'] = 1\n",
    "    else:\n",
    "        row['is_male'] = 1\n",
    "        row['is_female'] = 0\n",
    "    return row\n",
    "\n",
    "df = df.apply(generate_is_male_female_columns, axis=1)\n",
    "\n"
   ]
  },
  {
   "cell_type": "code",
   "execution_count": 131,
   "metadata": {},
   "outputs": [
    {
     "data": {
      "image/png": "[encoded data removed]",
      "text/plain": [
       "<Figure size 576x576 with 1 Axes>"
      ]
     },
     "metadata": {
      "needs_background": "light"
     },
     "output_type": "display_data"
    }
   ],
   "source": [
    "plot_points_regression(df['is_male'],\n",
    "                       y,\n",
    "                       title='Relationship between X and Y',\n",
    "                       xlabel=\"is_male\",\n",
    "                       ylabel='Weight')"
   ]
  },
  {
   "cell_type": "markdown",
   "metadata": {},
   "source": [
    "Now try with three features. There is no need to do plotting here.\n",
    "- compute the regression weights using $\\mathbf{X}$ and $\\mathbf{y}$\n",
    "- compute the prediction\n",
    "- compute and print the $R^2$ value"
   ]
  },
  {
   "cell_type": "code",
   "execution_count": 132,
   "metadata": {},
   "outputs": [
    {
     "name": "stdout",
     "output_type": "stream",
     "text": [
      "Estimated w =\n",
      " [-114.23203186    0.43528156    0.78007192    1.97311647]\n",
      "Shape: (4,)\n",
      "R2 = 0.6150222722767842\n"
     ]
    }
   ],
   "source": [
    "# START OF YOUR CODE:\n",
    "feature_cols = ['Height', 'Shoe number', 'Trouser number']\n",
    "X = df.loc[:, feature_cols]\n",
    "y = df['Weight']\n",
    "\n",
    "w = normal_equation_weights(X, y)\n",
    "print(\"Estimated w =\\n\", w)\n",
    "print(\"Shape:\", w.shape)\n",
    "\n",
    "prediction = normal_equation_prediction(X, w)\n",
    "\n",
    "r_2 = r2_score(y_true=y, y_pred=prediction)\n",
    "\n",
    "print('R2 =', str(r_2))\n",
    "# END OF YOUR CODE\n"
   ]
  },
  {
   "cell_type": "markdown",
   "metadata": {},
   "source": [
    "Using **Height**,  **Shoe number** and **Trouser number** improved the baseline. From $R^2 = 32\\%$ to $R^2 = 61\\%$. Good.\n"
   ]
  },
  {
   "cell_type": "markdown",
   "metadata": {},
   "source": [
    "<hr>\n",
    "\n",
    "## <mark>2.9 - Experiments </mark>\n",
    "\n",
    "I would like to test some ideas before writing comments.\n",
    "\n",
    "### 1. Try to use all available features.\n",
    "\n",
    "Result: Using all five features showed no significant improvement.\n",
    "\n"
   ]
  },
  {
   "cell_type": "code",
   "execution_count": 137,
   "metadata": {},
   "outputs": [
    {
     "name": "stdout",
     "output_type": "stream",
     "text": [
      "Estimated w =\n",
      " [-8.06442948e+01  4.35080501e-01  9.92575320e-01  1.92498207e+00\n",
      " -4.09483197e+01 -3.96959750e+01  1.93994248e-02]\n",
      "Shape: (7,)\n",
      "R2 = 0.6157821587529533\n"
     ]
    }
   ],
   "source": [
    "feature_cols = ['Height', 'Shoe number', 'Trouser number', 'is_male', 'is_female', 'Age']\n",
    "X = df.loc[:, feature_cols]\n",
    "y = df['Weight']\n",
    "\n",
    "w = normal_equation_weights(X, y)\n",
    "print(\"Estimated w =\\n\", w)\n",
    "print(\"Shape:\", w.shape)\n",
    "\n",
    "prediction = normal_equation_prediction(X, w)\n",
    "\n",
    "r_2 = r2_score(y_true=y, y_pred=prediction)\n",
    "\n",
    "print('R2 =', str(r_2))"
   ]
  },
  {
   "cell_type": "markdown",
   "metadata": {},
   "source": [
    "### 2. Trying to generate new features.\n",
    "\n",
    "The idea is to generate features using **genPowerset** util function. \n",
    "Function **genPowerset** returns a list that contains all possible combinations of the elements of the input parameter.\n",
    "\n",
    "```\n",
    "(Ex)\n",
    "genPowerset(['a', 'b', 'c'])\n",
    "returns  [[], ['c'], ['b'], ['b', 'c'], ['a'], ['a', 'c'], ['a', 'b'], ['a', 'b', 'c']]\n",
    "```\n",
    "\n",
    "I used the five features as input in this test  ['Height', 'Shoe number', 'Trouser number', 'is_male', 'is_female', 'Age'].\n",
    "\n",
    "\n",
    "### Results\n",
    "\n",
    "Table below sumarizes $R^2$ and the time spent in each computation step.\n",
    "\n",
    "| New features                                      \t| $R^2$  \t| # Generated features \t| Unique features \t| Time generating features \t| Time calculating normal equation weights \t| Time to predicted data \t| Time calculating $R^2$ \t|\n",
    "|---------------------------------------------------\t|--------\t|----------------------\t|-----------------\t|--------------------------\t|------------------------------------------\t|------------------------\t|------------------------\t|\n",
    "| linear polynomials $(a, b, ab)$                   \t| 65,34% \t| 31                   \t| 31              \t| 0.065s                   \t| 0.003s                                   \t| 0.0s                   \t| 0.0s                   \t|\n",
    "| quadratic polynomials $(a^2, b^2, ab, a^2*b ...)$ \t| 68,56% \t| 1023                 \t| 242             \t| 0.865s                   \t| 0.032s                                   \t| 0.0s                   \t| 0.0s                   \t|\n",
    "| adding 5 degree polynomials for Height feature    \t| 96,86% \t| 65535                \t| 895             \t| 2.775s                   \t| 0.603s                                   \t| 0.001s                 \t| 0.0s                   \t|\n",
    "\n",
    "### Some points\n",
    "1. Processing time is dominated by the generation the features and not by calculation of weights.\n",
    "2. We can see the time spent during weights calculation increasing. But as the number of dataset samples is small (<200), this not represent a problem.\n",
    "3. We can see thee $R^2$ score gain following the number of generated features.\n"
   ]
  },
  {
   "cell_type": "code",
   "execution_count": 20,
   "metadata": {},
   "outputs": [
    {
     "name": "stdout",
     "output_type": "stream",
     "text": [
      "linear polynomials features\n",
      "\\--> generated 31 features of these  31 are unique. In 0.05800199508666992 seconds.\n",
      "\\--> normal_equation_weights in  0.002001523971557617 seconds\n",
      "\\--> time_prediction in  0.0 seconds\n",
      "\\--> R2 = 0.653435384842756 in  0.0010006427764892578 seconds\n",
      "\n",
      "quadratic polynomials features\n",
      "\\--> generated 1023 features of these  242 are unique. In 0.41499948501586914 seconds.\n",
      "\\--> normal_equation_weights in  0.03200101852416992 seconds\n",
      "\\--> time_prediction in  0.0 seconds\n",
      "\\--> R2 = 0.6856262885110491 in  0.0 seconds\n",
      "\n",
      "adding polynomial of 5h degree for Height feature\n",
      "\\--> generated 65535 features of these  895 are unique. In 2.642000436782837 seconds.\n",
      "\\--> normal_equation_weights in  0.5766305923461914 seconds\n",
      "\\--> time_prediction in  0.0010008811950683594 seconds\n",
      "\\--> R2 = 0.9686250309721967 in  0.0010020732879638672 seconds\n",
      "\n"
     ]
    }
   ],
   "source": [
    "import math\n",
    "\n",
    "def getBinaryRep(n, numDigits):\n",
    "    \"\"\" Assumes n and numDigits are non-negatives ints\n",
    "        Returns a str of length numDigits that is a binary\n",
    "        representation of n \"\"\"\n",
    "    result = ''\n",
    "    while n > 0:\n",
    "        result = str(n % 2) + result\n",
    "        n = n // 2\n",
    "    if len(result) > numDigits:\n",
    "        raise ValueError('not enough digits')\n",
    "    for i in range(numDigits - len(result)):\n",
    "        result = '0' + result\n",
    "    return result\n",
    "\n",
    "def genPowerset(L):\n",
    "    \"\"\" Assumes L is a list\n",
    "        Returns a list of list that contains all possible\n",
    "        combinations of the elements of L. E.g., if\n",
    "        L is [1, 2] it wil return a list with elements\n",
    "        [], [1], [2], and [1,2]. \"\"\"\n",
    "    powerset = []\n",
    "    for i in range(0, 2**len(L)):\n",
    "        binStr = getBinaryRep(i, len(L))\n",
    "        subset = []\n",
    "        for j in range(len(L)):\n",
    "            if binStr[j] == '1':\n",
    "                subset.append(L[j])\n",
    "        powerset.append(subset)\n",
    "    return powerset\n",
    "\n",
    "def generate_is_male_female_columns(row):\n",
    "    if row['Sex'] == 'Female':\n",
    "        row['is_male'] = 0\n",
    "        row['is_female'] = 1\n",
    "    else:\n",
    "        row['is_male'] = 1\n",
    "        row['is_female'] = 0\n",
    "    return row\n",
    "\n",
    "def clean_trouser_number(cell):\n",
    "    if cell == 'S':\n",
    "        return 38\n",
    "    elif cell == 'M':\n",
    "        return 40\n",
    "    elif cell == 'G':\n",
    "        return 42\n",
    "    else:\n",
    "        return int(cell)\n",
    "\n",
    "\n",
    "def cleaned_dataset():\n",
    "    # Load \n",
    "    dataframe = pd.read_csv('dataMAC0460_5832.csv')\n",
    "\n",
    "    # Remove 3 samples \n",
    "    dataframe = dataframe[dataframe.Height > 140]\n",
    "\n",
    "    # Clean Trouser number\n",
    "    dataframe['Trouser number'] = dataframe['Trouser number'].map(clean_trouser_number)\n",
    "    \n",
    "    # Generate 0-1 columns for Sex categorical columns\n",
    "    dataframe = dataframe.apply(generate_is_male_female_columns, axis=1)\n",
    "\n",
    "    feature_cols = ['Height', 'Shoe number', 'Trouser number', 'is_male', 'Age']\n",
    "    X = dataframe.loc[:, feature_cols]\n",
    "    y = dataframe['Weight']\n",
    "\n",
    "    return (X, y)\n",
    "\n",
    "\n",
    "def generate_new_features(dataframe, new_features_ideas, verbose=True):\n",
    "    init = time.time()\n",
    "    _, *new_features_ideas = new_features_ideas #trick to remove the first empty generated set\n",
    "\n",
    "    already_done = []\n",
    "\n",
    "    for feature_combination in new_features_ideas:\n",
    "        feature_name = ' * '.join(feature_combination)\n",
    "        if feature_name not in already_done:\n",
    "            already_done.append(feature_name)\n",
    "            values = dataframe[feature_combination]\n",
    "            combination = values.product(axis=1)\n",
    "            dataframe[feature_name] = combination\n",
    "    init = time.time() - init\n",
    "\n",
    "    if verbose == True:\n",
    "        print('\\--> generated', str(len(new_features_ideas)), 'features of these ', str(dataframe.shape[1]) ,'are unique. In', str(init), 'seconds.' )\n",
    "\n",
    "\n",
    "\n",
    "\n",
    "new_features_ideas_to_test = [\n",
    "    {'name': 'linear polynomials features', 'set': genPowerset(['Height', 'Shoe number', 'Trouser number', 'is_male', 'Age'])},\n",
    "    {'name': 'quadratic polynomials features', 'set': genPowerset(['Height', 'Height', 'Shoe number', 'Shoe number', 'Trouser number', 'Trouser number', 'is_male', 'is_male', 'Age', 'Age'])},\n",
    "    {'name': 'adding polynomial of 5h degree for Height feature', 'set': genPowerset(['Height', 'Height', 'Height', 'Height','Height', 'Height','Shoe number', 'Shoe number', 'Shoe number', 'Trouser number', 'Trouser number', 'Trouser number', 'is_male', 'Age', 'Age', 'Age'])}\n",
    "]\n",
    "\n",
    "\n",
    "for new_features_ideas in new_features_ideas_to_test:\n",
    "    print(new_features_ideas['name'])    \n",
    "    (X, y) = cleaned_dataset()\n",
    "    generate_new_features(X, new_features_ideas['set'])\n",
    "    time_normal_equation_weights = time.time()\n",
    "    w = normal_equation_weights(X, y)\n",
    "    time_normal_equation_weights = time.time() - time_normal_equation_weights\n",
    "    time_prediction = time.time()\n",
    "    prediction = normal_equation_prediction(X, w)\n",
    "    time_prediction = time.time() - time_prediction\n",
    "    time_r2 = time.time()\n",
    "    r_2 = r2_score(y_true=y, y_pred=prediction)\n",
    "    time_r2 = time.time() - time_r2\n",
    "    print('\\--> normal_equation_weights in ', str(time_normal_equation_weights),'seconds')\n",
    "    print('\\--> time_prediction in ', str(time_prediction),'seconds')\n",
    "    print('\\--> R2 =', str(r_2),'in ', str(time_r2),'seconds\\n')\n",
    "\n",
    "\n",
    "# generate_new_features(X)\n",
    "# w = normal_equation_weights(X, y)\n",
    "# prediction = normal_equation_prediction(X, w)\n",
    "# r_2 = r2_score(y_true=y, y_pred=prediction)\n",
    "\n",
    "# print('R2 =', str(r_2))\n"
   ]
  },
  {
   "cell_type": "markdown",
   "metadata": {},
   "source": [
    "### 3. Split dataset in train and test set and evaluated if it is overfiting\n",
    "\n",
    "Implemented kfold test spliting strategy. (k=5)\n",
    "\n",
    "### Results\n",
    "\n",
    "| New features                                      \t| Unique features \t| $R^2\text{train}$ \t| $R^2\text{test}$ \t|\n",
    "|---------------------------------------------------\t|-----------------\t|-------------------\t|------------------\t|\n",
    "| linear polynomials features  | 31  |  66.57% | 48.76% | \n",
    "| quadratic polynomials features  | 242  |  70.47% | 28.50% | \n",
    "| adding polynomial of 5h degree for Height feature  | 895  |  99.39% | -2963.49% | \n",
    "| Age  | 1  |  0.48% | -3.01% | \n",
    "| is_male  | 1  |  9.28% | 8.98% | \n",
    "| is_male,Age  | 2  |  11.60% | 8.67% | \n",
    "| Trouser number  | 1  |  49.83% | 50.63% | \n",
    "| Trouser number,Age  | 2  |  50.46% | 51.45% | \n",
    "| Trouser number,is_male  | 2  |  54.17% | 55.40% | \n",
    "| Trouser number,is_male,Age  | 3  |  54.26% | 54.95% | \n",
    "| Shoe number  | 1  |  34.62% | 31.84% | \n",
    "| Shoe number,Age  | 2  |  38.46% | 31.77% | \n",
    "| Shoe number,is_male  | 2  |  39.11% | 32.34% | \n",
    "| Shoe number,is_male,Age  | 3  |  41.66% | 32.24% | \n",
    "| Shoe number,Trouser number  | 2  |  58.84% | 59.45% | \n",
    "| Shoe number,Trouser number,Age  | 3  |  59.07% | 58.37% | \n",
    "| Shoe number,Trouser number,is_male  | 3  |  59.08% | 58.89% | \n",
    "| Shoe number,Trouser number,is_male,Age  | 4  |  59.30% | 57.76% | \n",
    "| Height  | 1  |  30.90% | 31.19% | \n",
    "| Height,Age  | 2  |  34.32% | 32.46% | \n",
    "| Height,is_male  | 2  |  31.32% | 29.95% | \n",
    "| Height,is_male,Age  | 3  |  34.47% | 31.62% | \n",
    "| Height,Trouser number  | 2  |  59.95% | 60.92% | \n",
    "| Height,Trouser number,Age  | 3  |  60.08% | 60.40% | \n",
    "| Height,Trouser number,is_male  | 3  |  60.02% | 60.71% | \n",
    "| Height,Trouser number,is_male,Age  | 4  |  60.20% | 60.11% | \n",
    "| Height,Shoe number  | 2  |  35.95% | 34.29% | \n",
    "| Height,Shoe number,Age  | 3  |  40.08% | 34.95% | \n",
    "| Height,Shoe number,is_male  | 3  |  40.41% | 33.69% | \n",
    "| Height,Shoe number,is_male,Age  | 4  |  43.18% | 34.41% | \n",
    "| Height,Shoe number,Trouser number  | 3  |  60.49% | 61.26% | \n",
    "| Height,Shoe number,Trouser number,Age  | 4  |  60.75% | 60.40% | \n",
    "| Height,Shoe number,Trouser number,is_male  | 4  |  60.72% | 60.44% | \n",
    "| Height,Shoe number,Trouser number,is_male,Age  | 5  |  60.97% | 59.57% | \n",
    "\n",
    "### Some points\n",
    "\n",
    "- First and second lines are in high bias and high variance(overfit) regimen.\n",
    "- Third line is high variance(overfit) regimen.\n",
    "- The best result still the simple case using Height,Shoe number,Trouser number features. R2test $60.49\\%$, R2train $61.26\\%$."
   ]
  },
  {
   "cell_type": "code",
   "execution_count": 22,
   "metadata": {},
   "outputs": [
    {
     "name": "stdout",
     "output_type": "stream",
     "text": [
      " \n",
      "    | New features                                      \t| Unique features \t| $R^2\text{train}$ \t| $R^2\text{test}$ \t|\n",
      "    |---------------------------------------------------\t|-----------------\t|-------------------\t|------------------\t|\n",
      "    \n",
      "| linear polynomials features  | 31  |  66.57% | 48.76% | \n",
      "| quadratic polynomials features  | 242  |  70.47% | 28.50% | \n",
      "| adding polynomial of 5h degree for Height feature  | 895  |  99.39% | -2963.49% | \n",
      "| Age  | 1  |  0.48% | -3.01% | \n",
      "| is_male  | 1  |  9.28% | 8.98% | \n",
      "| is_male,Age  | 2  |  11.60% | 8.67% | \n",
      "| Trouser number  | 1  |  49.83% | 50.63% | \n",
      "| Trouser number,Age  | 2  |  50.46% | 51.45% | \n",
      "| Trouser number,is_male  | 2  |  54.17% | 55.40% | \n",
      "| Trouser number,is_male,Age  | 3  |  54.26% | 54.95% | \n",
      "| Shoe number  | 1  |  34.62% | 31.84% | \n",
      "| Shoe number,Age  | 2  |  38.46% | 31.77% | \n",
      "| Shoe number,is_male  | 2  |  39.11% | 32.34% | \n",
      "| Shoe number,is_male,Age  | 3  |  41.66% | 32.24% | \n",
      "| Shoe number,Trouser number  | 2  |  58.84% | 59.45% | \n",
      "| Shoe number,Trouser number,Age  | 3  |  59.07% | 58.37% | \n",
      "| Shoe number,Trouser number,is_male  | 3  |  59.08% | 58.89% | \n",
      "| Shoe number,Trouser number,is_male,Age  | 4  |  59.30% | 57.76% | \n",
      "| Height  | 1  |  30.90% | 31.19% | \n",
      "| Height,Age  | 2  |  34.32% | 32.46% | \n",
      "| Height,is_male  | 2  |  31.32% | 29.95% | \n",
      "| Height,is_male,Age  | 3  |  34.47% | 31.62% | \n",
      "| Height,Trouser number  | 2  |  59.95% | 60.92% | \n",
      "| Height,Trouser number,Age  | 3  |  60.08% | 60.40% | \n",
      "| Height,Trouser number,is_male  | 3  |  60.02% | 60.71% | \n",
      "| Height,Trouser number,is_male,Age  | 4  |  60.20% | 60.11% | \n",
      "| Height,Shoe number  | 2  |  35.95% | 34.29% | \n",
      "| Height,Shoe number,Age  | 3  |  40.08% | 34.95% | \n",
      "| Height,Shoe number,is_male  | 3  |  40.41% | 33.69% | \n",
      "| Height,Shoe number,is_male,Age  | 4  |  43.18% | 34.41% | \n",
      "| Height,Shoe number,Trouser number  | 3  |  60.49% | 61.26% | \n",
      "| Height,Shoe number,Trouser number,Age  | 4  |  60.75% | 60.40% | \n",
      "| Height,Shoe number,Trouser number,is_male  | 4  |  60.72% | 60.44% | \n",
      "| Height,Shoe number,Trouser number,is_male,Age  | 5  |  60.97% | 59.57% | \n"
     ]
    }
   ],
   "source": [
    "from statistics import mean\n",
    "\n",
    "def train_test_split(X, y, test_size=0.33, seed=0):\n",
    "    dataset = X.merge(y, left_index=True, right_index=True)\n",
    "    np.random.seed(seed)\n",
    "    m = X.shape[0]\n",
    "    test_size = int(m // (1/test_size))\n",
    "    train_size = int(m - test_size)\n",
    "\n",
    "    #Step 1: Sample dataset\n",
    "    dataset_shuffled = dataset.sample(n=m, ignore_index=True, random_state=seed)\n",
    "\n",
    "    #Step 2: Split train and test\n",
    "    train = dataset_shuffled.head(n=train_size)\n",
    "    test = dataset_shuffled.tail(n=test_size)\n",
    "\n",
    "    #Step 3: Split X and y\n",
    "    train_X = train.iloc[:,:-1]\n",
    "    train_y = train.iloc[:,-1:]\n",
    "    test_X = test.iloc[:,:-1]\n",
    "    test_y = test.iloc[:,-1:]\n",
    "\n",
    "    return (train_X, train_y, test_X, test_y)\n",
    "\n",
    "def kfold_split(X, y, test_size=0.33, k=5, seed=0):\n",
    "    splits = []\n",
    "    for iteration in range(k):\n",
    "        splits.append( train_test_split(X, y, test_size=test_size, seed=(seed+iteration)) )\n",
    "    return splits\n",
    "\n",
    "def calculate_train_test_r2(X, y):\n",
    "    splits = kfold_split(X, y)\n",
    "    train_r2_results = []\n",
    "    test_r2_results  = []\n",
    "\n",
    "    for (train_X, train_y, test_X, test_y) in splits:\n",
    "        w = normal_equation_weights(train_X, train_y)\n",
    "        train_prediction = normal_equation_prediction(train_X, w)\n",
    "        test_prediction  = normal_equation_prediction(test_X, w)\n",
    "        train_r2 = r2_score(y_true=train_y, y_pred=train_prediction)\n",
    "        test_r2  = r2_score(y_true=test_y, y_pred=test_prediction)\n",
    "        train_r2_results.append(train_r2)\n",
    "        test_r2_results.append(test_r2)\n",
    "\n",
    "    train_r2_avg = mean(train_r2_results) * 100\n",
    "    test_r2_avg = mean(test_r2_results) * 100\n",
    "    # print('|',  adding 5 degree polynomials for Height feature    \t| 895             \t| 99,39%            \t| -29.63%          \t|)\n",
    "    print(f\" {train_r2_avg:.2f}% | {test_r2_avg:.2f}% | \")\n",
    "\n",
    "\n",
    "def generate_some_features_to_evaluate():\n",
    "    features_set_to_evaluate = [\n",
    "        {'name': 'linear polynomials features', 'set': genPowerset(['Height', 'Shoe number', 'Trouser number', 'is_male', 'Age'])},\n",
    "        {'name': 'quadratic polynomials features', 'set': genPowerset(['Height', 'Height', 'Shoe number', 'Shoe number', 'Trouser number', 'Trouser number', 'is_male', 'is_male', 'Age', 'Age'])},\n",
    "        {'name': 'adding polynomial of 5h degree for Height feature', 'set': genPowerset(['Height', 'Height', 'Height', 'Height','Height', 'Height','Shoe number', 'Shoe number', 'Shoe number', 'Trouser number', 'Trouser number', 'Trouser number', 'is_male', 'Age', 'Age', 'Age'])}\n",
    "    ]\n",
    "    \n",
    "    combinations = genPowerset(['Height', 'Shoe number', 'Trouser number', 'is_male', 'Age'])\n",
    "    _, *combinations = combinations #trick to remove the first empty generated set\n",
    "\n",
    "    for c in combinations:\n",
    "        f = {'name': ','.join(c), 'feature_cols': c}\n",
    "        features_set_to_evaluate.append(f)\n",
    "\n",
    "    return features_set_to_evaluate\n",
    "\n",
    "def run():\n",
    "    header = ''' \n",
    "    | New features                                      \t| Unique features \t| $R^2\\text{train}$ \t| $R^2\\text{test}$ \t|\n",
    "    |---------------------------------------------------\t|-----------------\t|-------------------\t|------------------\t|\n",
    "    '''\n",
    "    print(header)\n",
    "    features_set_to_evaluate = generate_some_features_to_evaluate()\n",
    "    for features in features_set_to_evaluate:\n",
    "        print('|', features['name'], ' | ', end = '')    \n",
    "\n",
    "        (X, y) = cleaned_dataset()\n",
    "        if 'feature_cols' in features:\n",
    "            feature_cols = features['feature_cols']\n",
    "            X = X.loc[:, feature_cols]\n",
    "            print(str(len(feature_cols)), ' | ', end = '')\n",
    "        else:\n",
    "            generate_new_features(X, features['set'], verbose=False)\n",
    "            print(str(X.shape[1]), ' | ', end = '')\n",
    "\n",
    "        calculate_train_test_r2(X, y)\n",
    "\n",
    "run()"
   ]
  },
  {
   "cell_type": "markdown",
   "metadata": {},
   "source": [
    "### 4. Last try. I will add regularization.\n",
    "\n",
    "I will try to add the regularizaiton term.\n",
    "\n",
    " $\\text{weights} = (X^T X + \\lambda . L)^{-1}X^T y$\n",
    "\n",
    "\n",
    " ### Results\n",
    "\n",
    " | New features                                      \t| Unique features \t| $R^2\\text{train}$ \t| $R^2\\text{test}$ \t| best $\\lambda$ found \t| $R^2\\text{train}$ with regularization \t| $R^2\\text{test}$ with regularization \t|\n",
    "|---------------------------------------------------\t|-----------------\t|-------------------\t|------------------\t|----------------------\t|---------------------------------------\t|--------------------------------------\t|\n",
    "| linear polynomials $(a, b, ab)$                   \t| 31              \t| 66,56%            \t| 48.76%           \t| $10^8$               \t| 62,17%                                \t| 58,93%                               \t|\n",
    "| quadratic polynomials $(a^2, b^2, ab, a^2*b ...)$ \t| 242             \t| 70,47%            \t| 28.50%           \t| $10^{19}$              \t| 68,05%                                \t| 49,98%                               \t|\n",
    "| adding 5 degree polynomials for Height feature    \t| 895             \t| 99,39%            \t| -29.63%          \t| $10^{38}$              \t| 89,93%                                \t| -3,46%                              \t|\n",
    "\n",
    "\n",
    "### Some points\n",
    "\n",
    "- Regularization helped a little in first line. I think this was my best model. At the end I cannot improve the simple case of using only Height,Shoe number,Trouser number features which have R2test $60.49\\%$, R2train $61.26\\%$. \n",
    "- Regularization improved a little the second line.\n",
    "- Regularization could not help the third line."
   ]
  },
  {
   "cell_type": "code",
   "execution_count": 164,
   "metadata": {},
   "outputs": [
    {
     "name": "stdout",
     "output_type": "stream",
     "text": [
      "linear polynomials features\n",
      "\\--> generated 31 features of these  31 are unique. In 0.06299853324890137 seconds.\n",
      "\\--> lambda = 0 , R2(train) = 0.6656801595705047   | R2(test) = 0.4876073917683773\n",
      "\\--> lambda = 100000000.0 , R2(train) = 0.6217991265683201   | R2(test) = 0.5893516300689341\n",
      "\\--> lambda = 1e+19 , R2(train) = -22.246677335650336   | R2(test) = -23.410382032442683\n",
      "\\--> lambda = 1e+38 , R2(train) = -22.310428572583128   | R2(test) = -23.479645518984086\n",
      "\n",
      "\n",
      "quadratic polynomials features\n",
      "\\--> generated 1023 features of these  242 are unique. In 0.4289987087249756 seconds.\n",
      "\\--> lambda = 0 , R2(train) = 0.7047066934692578   | R2(test) = 0.2850072396718911\n",
      "\\--> lambda = 100000000.0 , R2(train) = 0.7047066932144884   | R2(test) = 0.28500727860061853\n",
      "\\--> lambda = 1e+19 , R2(train) = 0.6805500038297095   | R2(test) = 0.4998063700668235\n",
      "\\--> lambda = 1e+38 , R2(train) = -22.310427769328136   | R2(test) = -23.4796445866831\n",
      "\n",
      "\n",
      "adding polynomial of 5h degree for Height feature\n",
      "\\--> generated 65535 features of these  895 are unique. In 2.8144960403442383 seconds.\n",
      "\\--> lambda = 0 , R2(train) = 0.9939074891493404   | R2(test) = -29.63489574072149\n",
      "\\--> lambda = 100000000.0 , R2(train) = 0.9939074891493404   | R2(test) = -29.634895740731192\n",
      "\\--> lambda = 1e+19 , R2(train) = 0.9939074891493404   | R2(test) = -29.634895740726872\n",
      "\\--> lambda = 1e+38 , R2(train) = 0.8993605999510972   | R2(test) = -3.4662777434716427\n",
      "\n",
      "\n"
     ]
    }
   ],
   "source": [
    "def normal_equation_weights_with_regularization(X, y, lambd=0):\n",
    "    \"\"\"\n",
    "    Calculates the weights of a linear function using the normal equation method WITH REGULARIZATION TERM.\n",
    "    You should add into X a new column with 1s.\n",
    "\n",
    "    :param X: design matrix\n",
    "    :type X: np.ndarray(shape=(N, d))\n",
    "    :param y: regression targets\n",
    "    :type y: np.ndarray(shape=(N, 1))\n",
    "    :param y: regression targets\n",
    "    :type lambd: float\n",
    "    :param lambd: regularization factor\n",
    "    \n",
    "    :type y: np.ndarray(shape=(N, 1))    \n",
    "    :return: weight vector\n",
    "    :rtype: np.ndarray(shape=(1+d, 1))\n",
    "    \"\"\"\n",
    "    \n",
    "    # START OF YOUR CODE:\n",
    "    m = X.shape[0]\n",
    "    n = X.shape[1]\n",
    "    L = np.row_stack( [ np.zeros((1, n+1)), np.column_stack([ np.zeros((n,1)), np.eye(n,n)])]) # we dont regularize the bias term\n",
    "    X = np.column_stack( [np.ones((m,1)), X ]) # adds the bias term in X\n",
    "    weights = np.dot( np.dot( np.linalg.pinv( np.dot(X.T, X) + np.multiply(lambd, L) ), X.T), y) # normal method\n",
    "    return weights\n",
    "    # END OF YOUR CODE\n",
    "\n",
    "\n",
    "def calculate_train_test_r2_with_regularization(X, y, lambd=0):\n",
    "    splits = kfold_split(X, y)\n",
    "    train_r2_results = []\n",
    "    test_r2_results  = []\n",
    "\n",
    "    for (train_X, train_y, test_X, test_y) in splits:\n",
    "        w = normal_equation_weights_with_regularization(train_X, train_y, lambd=lambd)\n",
    "        train_prediction = normal_equation_prediction(train_X, w)\n",
    "        test_prediction  = normal_equation_prediction(test_X, w)\n",
    "        train_r2 = r2_score(y_true=train_y, y_pred=train_prediction)\n",
    "        test_r2  = r2_score(y_true=test_y, y_pred=test_prediction)\n",
    "        train_r2_results.append(train_r2)\n",
    "        test_r2_results.append(test_r2)\n",
    "\n",
    "    train_r2_avg = mean(train_r2_results)\n",
    "    test_r2_avg = mean(test_r2_results)\n",
    "    print('\\--> lambda =', str(lambd), ', R2(train) =', str(train_r2_avg), '  | R2(test) =', str(test_r2_avg))\n",
    "\n",
    "\n",
    "features_set_to_evaluate = [\n",
    "    {'name': 'linear polynomials features', 'set': genPowerset(['Height', 'Shoe number', 'Trouser number', 'is_male', 'Age'])},\n",
    "    {'name': 'quadratic polynomials features', 'set': genPowerset(['Height', 'Height', 'Shoe number', 'Shoe number', 'Trouser number', 'Trouser number', 'is_male', 'is_male', 'Age', 'Age'])},\n",
    "    {'name': 'adding polynomial of 5h degree for Height feature', 'set': genPowerset(['Height', 'Height', 'Height', 'Height','Height', 'Height','Shoe number', 'Shoe number', 'Shoe number', 'Trouser number', 'Trouser number', 'Trouser number', 'is_male', 'Age', 'Age', 'Age'])}\n",
    "]\n",
    "\n",
    "lambdas_to_evaluate = [0, 1e8, 1e19, 1e38]\n",
    "\n",
    "\n",
    "for features in features_set_to_evaluate:\n",
    "    print(features['name'])    \n",
    "    (X, y) = cleaned_dataset()\n",
    "    generate_new_features(X, features['set'])\n",
    "\n",
    "    for lambd in lambdas_to_evaluate:\n",
    "        calculate_train_test_r2_with_regularization(X, y, lambd=lambd)\n",
    "    \n",
    "    print('\\n')"
   ]
  },
  {
   "cell_type": "markdown",
   "metadata": {},
   "source": [
    "# 3. <mark>Your comments</mark>\n",
    "\n",
    "Write any comments about your implementation or about the results you observed.\n",
    "\n",
    "===>\n",
    "\n",
    "\n",
    "### Part 1\n",
    "- Added a random seed parameter to try to make data sampling more deterministic in get_housing_prices_data function and other data sampling functions.\n",
    "- Normal equation method seems to be very suitable for this small dataset. Small number of samples and features.\n",
    "- I enjoyed implementing some auxiliary functions. I think this help me getting a better sense about what I am doing. (my_r2_score, my_mean_squared_error, train_test_split, kfold_test_split,....) It also helped me learning more about numpy and pandas methods.\n",
    "- Now, make more sense to me the reason why we are using R2_score. The denominator part of it formula acts as kind of standarization. This seems to make this metric more suitable when we need to compare models.\n",
    "- When experimenting with processing time, I saw that processing time increases as N increases (No news hera). \n",
    "- After ploting some graphs I found some strange behavior. The plot looked like a stairstep function(?função degrau?). \n",
    "- May be, this is caused by some matrix multiplication optimizaiton constraints, mixed with some SIMD constraints and mixed with some memory hierarchy constraints.\n",
    "- Also I could see that when N > 5222222 the growth seems to be more like an exponential function. I would need more points to be sure, but I have just lost my interest in waiting for the computer to end processing.\n",
    "\n",
    "### Part 2\n",
    "- I could spot strange values of $Heights$ column in datase. Removed 3 points because I think they could negative affect our regression model.\n",
    "- Also, I could see that some features do not help much(Shoe number, Age) and others seem to be very significant (Height and Trouser number).\n",
    "- After standard EP questions I tried to improve the model generating new features. At this point I could see a very good improvement in R2 metric.\n",
    "- Aiming to evaluate an overfit problem I started to split dataset in train and test sets.\n",
    "- I concluded that all models that I proposed are in overft regimen.\n",
    "- Implemented the normal method with the regularization term. This helped a little but was not enough to end with a good model.\n",
    "- At the end I think we could improve the model iterating in two parts: Improving the model or getting more data.\n",
    "- In model part, my next trials would be training a SVM or a RandomForest models.\n",
    "- In data part, I think we could iterate to get more samples to improve the overfiting situation.\n",
    "\n",
    "\n",
    "\n",
    "\n",
    "\n",
    "\n"
   ]
  },
  {
   "cell_type": "markdown",
   "metadata": {},
   "source": []
  }
 ],
 "metadata": {
  "kernelspec": {
   "display_name": "Python 3",
   "language": "python",
   "name": "python3"
  },
  "language_info": {
   "codemirror_mode": {
    "name": "ipython",
    "version": 3
   },
   "file_extension": ".py",
   "mimetype": "text/x-python",
   "name": "python",
   "nbconvert_exporter": "python",
   "pygments_lexer": "ipython3",
   "version": "3.8.12"
  }
 },
 "nbformat": 4,
 "nbformat_minor": 4
}
